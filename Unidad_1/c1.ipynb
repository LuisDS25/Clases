{
 "cells": [
  {
   "cell_type": "markdown",
   "id": "c60bf91e",
   "metadata": {},
   "source": [
    "## Clase 1. Elementos de un programa y tipos de datos"
   ]
  },
  {
   "cell_type": "markdown",
   "id": "3fd6127f",
   "metadata": {},
   "source": [
    "*Un programa es*"
   ]
  },
  {
   "cell_type": "code",
   "execution_count": null,
   "id": "f6aaf3ca",
   "metadata": {},
   "outputs": [],
   "source": [
    "#Identificadores: Nombre para identificar variables, tipos, funciones y etiquetas del programa.\n",
    "identificador_1 = 4\n",
    "variable_string= \"Hola\"\n",
    "\n",
    "print(variable_string * identificador_1)"
   ]
  },
  {
   "cell_type": "code",
   "execution_count": null,
   "id": "0bf35280",
   "metadata": {},
   "outputs": [],
   "source": [
    "#Palabras reservadas: son palabras las cuales el lenguaje de programación ya ha reservado para realizar ciertas tareas.\n",
    "and = 4\n",
    "print(and)\n",
    "\n",
    "#Por esta razón debemos usar identificadores validos"
   ]
  },
  {
   "cell_type": "markdown",
   "id": "3e1d4519",
   "metadata": {},
   "source": [
    "*Otras palabras reservadas son:*\n",
    "<img src=\"palabras_reservadas.png_large\">"
   ]
  },
  {
   "cell_type": "code",
   "execution_count": null,
   "id": "37b00f53",
   "metadata": {},
   "outputs": [],
   "source": [
    "# Comentarios:  Son lineas que python omite ejecutar pero que son de mucha utilidad para documentar información adicional para los desarrolladores o lectores del código. De hecho este mismo texto es un comentario. "
   ]
  },
  {
   "cell_type": "code",
   "execution_count": null,
   "id": "e01c20e5",
   "metadata": {},
   "outputs": [],
   "source": []
  }
 ],
 "metadata": {
  "kernelspec": {
   "display_name": "Python 3 (ipykernel)",
   "language": "python",
   "name": "python3"
  },
  "language_info": {
   "codemirror_mode": {
    "name": "ipython",
    "version": 3
   },
   "file_extension": ".py",
   "mimetype": "text/x-python",
   "name": "python",
   "nbconvert_exporter": "python",
   "pygments_lexer": "ipython3",
   "version": "3.11.5"
  }
 },
 "nbformat": 4,
 "nbformat_minor": 5
}
