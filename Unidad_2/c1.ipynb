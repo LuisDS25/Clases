{
 "cells": [
  {
   "cell_type": "markdown",
   "id": "c60bf91e",
   "metadata": {},
   "source": [
    "## Clase 1. Elementos de un programa y tipos de datos"
   ]
  },
  {
   "cell_type": "markdown",
   "id": "3fd6127f",
   "metadata": {},
   "source": [
    "*\"Un programa es, esencialmente, un conjunto de instrucciones lógicas que le indican a una computadora cómo realizar una tarea específica.\"*\n",
    "\n",
    "\n",
    "\n",
    "- En la vida diaria, seguimos reglas gramaticales al comunicarnos. Estas reglas dictan cómo estructuramos las oraciones, usamos la puntuación y aplicamos normas lingüísticas para que nuestras ideas sean comprensibles.\n",
    "\n",
    "- En la programación, la sintaxis se refiere a las reglas que dictan la estructura y organización correcta del código. Por ejemplo, cómo se escriben y combinan las palabras clave, los operadores y los bloques de código."
   ]
  },
  {
   "cell_type": "code",
   "execution_count": null,
   "id": "f6aaf3ca",
   "metadata": {},
   "outputs": [],
   "source": [
    "#Identificadores: Nombre para identificar variables, tipos, funciones y etiquetas del programa.\n",
    "identificador_1 = 4\n",
    "variable_string= \"Hola\"\n",
    "\n",
    "print(variable_string * identificador_1)"
   ]
  },
  {
   "cell_type": "code",
   "execution_count": null,
   "id": "0bf35280",
   "metadata": {},
   "outputs": [],
   "source": [
    "# Palabras reservadas: son palabras las cuales el lenguaje de programación ya ha reservado para realizar ciertas tareas.\n",
    "and = 4\n",
    "print(and)\n",
    "\n",
    "#Por esta razón debemos usar identificadores validos"
   ]
  },
  {
   "cell_type": "markdown",
   "id": "3e1d4519",
   "metadata": {},
   "source": [
    "*Otras palabras reservadas son:*\n",
    "<img src= https://pbs.twimg.com/media/Eya8brpXAAI710A.png:large>\n"
   ]
  },
  {
   "cell_type": "markdown",
   "id": "d0819b24",
   "metadata": {},
   "source": [
    "### *Comentarios* "
   ]
  },
  {
   "cell_type": "code",
   "execution_count": 2,
   "id": "37b00f53",
   "metadata": {},
   "outputs": [],
   "source": [
    "# Son lineas que python omite ejecutar pero que son de mucha utilidad para documentar\n",
    "# información adicional para los desarrolladores o lectores del código. De hecho este mismo texto es un\n",
    "# comentario. Todo esto es un comentario"
   ]
  },
  {
   "cell_type": "markdown",
   "id": "a1fd6c75",
   "metadata": {},
   "source": [
    "### *Variables*"
   ]
  },
  {
   "cell_type": "code",
   "execution_count": null,
   "id": "e01c20e5",
   "metadata": {},
   "outputs": [],
   "source": [
    "#Variables: son contenedores que pueden almacenar información y pueden ser utilizadas en cálculos o\n",
    "# mostradas en la salida. \n",
    "\n",
    "# Definimos una variable para la temperatura en grados Celsius\n",
    "temperatura_celsius = 25\n",
    "\n",
    "# Fórmula de conversión de Celsius a Fahrenheit\n",
    "temperatura_fahrenheit = (temperatura_celsius * 9/5) + 32\n",
    "\n",
    "# Mostramos los resultados\n",
    "print(\"Temperatura en Celsius:\", temperatura_celsius)\n",
    "print(f\"Temperatura en Fahrenheit: {temperatura_fahrenheit}\")"
   ]
  },
  {
   "cell_type": "markdown",
   "id": "2d0cb814",
   "metadata": {},
   "source": [
    "### *Indentacion*"
   ]
  },
  {
   "cell_type": "markdown",
   "id": "392d306a",
   "metadata": {},
   "source": [
    "\n",
    "\n",
    "- En Python se refiere a la forma en que se estructuran y organizan los bloques de código. \n",
    "\n",
    "- A diferencia de otros lenguajes de programación que utilizan llaves {} o palabras clave como begin y end para delimitar bloques de código, en Python, la indentación se utiliza para definir la estructura y la jerarquía del código.\n",
    "\n",
    "- En Python, se utiliza un espacio o tabulación al comienzo de cada línea para indicar la pertenencia de esa línea a un bloque de código específico. La indentación es crucial en Python porque define la estructura del programa y afecta la ejecución del código."
   ]
  },
  {
   "cell_type": "code",
   "execution_count": null,
   "id": "ea3baa93",
   "metadata": {},
   "outputs": [],
   "source": [
    "#Indentacion correcta\n",
    "\n",
    "if True:\n",
    "    print(\"Esta línea está dentro del bloque condicional.\")\n",
    "    print(\"También está dentro del bloque condicional.\")\n",
    "else:\n",
    "    print(\"Esta línea no está dentro del bloque condicional.\")\n"
   ]
  },
  {
   "cell_type": "code",
   "execution_count": null,
   "id": "d4849fc3",
   "metadata": {},
   "outputs": [],
   "source": [
    "#Indentacion incorrecta\n",
    "\n",
    "if True:\n",
    "print(\"Esta línea está mal indentada y causará un error.\")\n"
   ]
  },
  {
   "cell_type": "markdown",
   "id": "1916ebc5",
   "metadata": {},
   "source": [
    "### *Bibliotecas de funciones*\n",
    "- Python tiene una gran cantidad de bibliotecas estándar que proporcionan funciones y módulos reutilizables.\n",
    "- Estas bibliotecas pueden ser estándar (incluidas con la instalación de Python) o externas (desarrolladas - por la comunidad y que pueden instalarse adicionalmente).\n",
    "\n",
    "- Su estructura es:\n",
    "\n",
    "<img src= https://edube.org/uploads/media/default/0001/01/6e2427acf223f597798962aeae1a3b73210090ce.png>"
   ]
  },
  {
   "cell_type": "code",
   "execution_count": 10,
   "id": "0bb6f8b1",
   "metadata": {},
   "outputs": [],
   "source": [
    "#Veamos un ejemplo de como importar la libreria SciPy\n",
    "\n",
    "#Importar todo el modulo\n",
    "import scipy\n",
    "\n",
    "#Importar modulos especificos\n",
    "from scipy import stats\n",
    "\n",
    "#Importar funciones especificas\n",
    "from scipy.stats import linregress\n"
   ]
  },
  {
   "cell_type": "code",
   "execution_count": null,
   "id": "c88d97fb",
   "metadata": {},
   "outputs": [],
   "source": [
    "#Instalando librerias externas\n",
    "\n",
    "#Es posible que, en algun momento, necesites instalar bibliotecas adicionales que no se incluyen de\n",
    "#forma predeterminada. \n",
    "\n",
    "%pip install plotly  \n",
    "#Si estas ejecutando el comando pip en una celda de codigo\n",
    "\n",
    "!pip install        \n",
    "#Si estas ejecutando el comando pip directamente desde la terminal"
   ]
  },
  {
   "cell_type": "markdown",
   "id": "69ab72f1",
   "metadata": {},
   "source": [
    "### *Tipos de datos*"
   ]
  },
  {
   "cell_type": "code",
   "execution_count": null,
   "id": "c8c0c123",
   "metadata": {},
   "outputs": [],
   "source": [
    "numero_entero = 5\n",
    "numero_flotante = 66.7\n",
    "frase = \"Hola clase\"\n",
    "variable_logica = True\n",
    "\n",
    "una_lista = [1,2,3,4,5,6]\n",
    "\n",
    "un_diccionario = {\n",
    "    \"llave_1\": 21,\n",
    "    \"llave_2\": \"Luis\",\n",
    "    3: [\"Chocolates\", \"Picafresas\", \"Mazapanes\"],\n",
    "}\n",
    "\n",
    "type(un_diccionario)"
   ]
  },
  {
   "cell_type": "code",
   "execution_count": null,
   "id": "33cc33c6",
   "metadata": {},
   "outputs": [],
   "source": [
    "#Introduccion al uso de listas y diccionarios\n",
    "\n",
    "#Las listas estan indexadas, quiere decir que tienen una posición específica o un número de índice único que\n",
    "#se utiliza para acceder a ellos. En Python, la indexación comienza desde cero\n",
    "indice = 0\n",
    "\n",
    "print(f\"Elemento {indice} de la lista: {una_lista[indice]}\")\n",
    "\n",
    "#Los diccionarios en python estan organizados en pares lave - valor, el nombre de las llaves esta definido\n",
    "#por el usuario por tanto accedemos al valor por el nombre de su llave, ademas no esta indexada\n",
    "\n",
    "llave = \"llave_1\"\n",
    "\n",
    "print(f\"La llave {llave} del diccionario contiene: {un_diccionario[llave]}\")\n"
   ]
  },
  {
   "cell_type": "markdown",
   "id": "c67835eb",
   "metadata": {},
   "source": [
    "### *Aplicando lo aprendido*\n",
    "\n",
    "En este pequeño ejemplo intentaremos identificar los elementos de un programa vistos hasta el momento"
   ]
  },
  {
   "cell_type": "code",
   "execution_count": 17,
   "id": "1de2093a",
   "metadata": {},
   "outputs": [
    {
     "data": {
      "application/vnd.plotly.v1+json": {
       "config": {
        "plotlyServerURL": "https://plot.ly"
       },
       "data": [
        {
         "hovertemplate": "X=%{x}<br>Y=%{y}<extra></extra>",
         "legendgroup": "",
         "marker": {
          "color": "#636efa",
          "symbol": "circle"
         },
         "mode": "markers",
         "name": "",
         "orientation": "v",
         "showlegend": false,
         "type": "scatter",
         "x": [
          1,
          2,
          3,
          4,
          5
         ],
         "xaxis": "x",
         "y": [
          10,
          11,
          12,
          13,
          14
         ],
         "yaxis": "y"
        }
       ],
       "layout": {
        "legend": {
         "tracegroupgap": 0
        },
        "template": {
         "data": {
          "bar": [
           {
            "error_x": {
             "color": "#2a3f5f"
            },
            "error_y": {
             "color": "#2a3f5f"
            },
            "marker": {
             "line": {
              "color": "#E5ECF6",
              "width": 0.5
             },
             "pattern": {
              "fillmode": "overlay",
              "size": 10,
              "solidity": 0.2
             }
            },
            "type": "bar"
           }
          ],
          "barpolar": [
           {
            "marker": {
             "line": {
              "color": "#E5ECF6",
              "width": 0.5
             },
             "pattern": {
              "fillmode": "overlay",
              "size": 10,
              "solidity": 0.2
             }
            },
            "type": "barpolar"
           }
          ],
          "carpet": [
           {
            "aaxis": {
             "endlinecolor": "#2a3f5f",
             "gridcolor": "white",
             "linecolor": "white",
             "minorgridcolor": "white",
             "startlinecolor": "#2a3f5f"
            },
            "baxis": {
             "endlinecolor": "#2a3f5f",
             "gridcolor": "white",
             "linecolor": "white",
             "minorgridcolor": "white",
             "startlinecolor": "#2a3f5f"
            },
            "type": "carpet"
           }
          ],
          "choropleth": [
           {
            "colorbar": {
             "outlinewidth": 0,
             "ticks": ""
            },
            "type": "choropleth"
           }
          ],
          "contour": [
           {
            "colorbar": {
             "outlinewidth": 0,
             "ticks": ""
            },
            "colorscale": [
             [
              0,
              "#0d0887"
             ],
             [
              0.1111111111111111,
              "#46039f"
             ],
             [
              0.2222222222222222,
              "#7201a8"
             ],
             [
              0.3333333333333333,
              "#9c179e"
             ],
             [
              0.4444444444444444,
              "#bd3786"
             ],
             [
              0.5555555555555556,
              "#d8576b"
             ],
             [
              0.6666666666666666,
              "#ed7953"
             ],
             [
              0.7777777777777778,
              "#fb9f3a"
             ],
             [
              0.8888888888888888,
              "#fdca26"
             ],
             [
              1,
              "#f0f921"
             ]
            ],
            "type": "contour"
           }
          ],
          "contourcarpet": [
           {
            "colorbar": {
             "outlinewidth": 0,
             "ticks": ""
            },
            "type": "contourcarpet"
           }
          ],
          "heatmap": [
           {
            "colorbar": {
             "outlinewidth": 0,
             "ticks": ""
            },
            "colorscale": [
             [
              0,
              "#0d0887"
             ],
             [
              0.1111111111111111,
              "#46039f"
             ],
             [
              0.2222222222222222,
              "#7201a8"
             ],
             [
              0.3333333333333333,
              "#9c179e"
             ],
             [
              0.4444444444444444,
              "#bd3786"
             ],
             [
              0.5555555555555556,
              "#d8576b"
             ],
             [
              0.6666666666666666,
              "#ed7953"
             ],
             [
              0.7777777777777778,
              "#fb9f3a"
             ],
             [
              0.8888888888888888,
              "#fdca26"
             ],
             [
              1,
              "#f0f921"
             ]
            ],
            "type": "heatmap"
           }
          ],
          "heatmapgl": [
           {
            "colorbar": {
             "outlinewidth": 0,
             "ticks": ""
            },
            "colorscale": [
             [
              0,
              "#0d0887"
             ],
             [
              0.1111111111111111,
              "#46039f"
             ],
             [
              0.2222222222222222,
              "#7201a8"
             ],
             [
              0.3333333333333333,
              "#9c179e"
             ],
             [
              0.4444444444444444,
              "#bd3786"
             ],
             [
              0.5555555555555556,
              "#d8576b"
             ],
             [
              0.6666666666666666,
              "#ed7953"
             ],
             [
              0.7777777777777778,
              "#fb9f3a"
             ],
             [
              0.8888888888888888,
              "#fdca26"
             ],
             [
              1,
              "#f0f921"
             ]
            ],
            "type": "heatmapgl"
           }
          ],
          "histogram": [
           {
            "marker": {
             "pattern": {
              "fillmode": "overlay",
              "size": 10,
              "solidity": 0.2
             }
            },
            "type": "histogram"
           }
          ],
          "histogram2d": [
           {
            "colorbar": {
             "outlinewidth": 0,
             "ticks": ""
            },
            "colorscale": [
             [
              0,
              "#0d0887"
             ],
             [
              0.1111111111111111,
              "#46039f"
             ],
             [
              0.2222222222222222,
              "#7201a8"
             ],
             [
              0.3333333333333333,
              "#9c179e"
             ],
             [
              0.4444444444444444,
              "#bd3786"
             ],
             [
              0.5555555555555556,
              "#d8576b"
             ],
             [
              0.6666666666666666,
              "#ed7953"
             ],
             [
              0.7777777777777778,
              "#fb9f3a"
             ],
             [
              0.8888888888888888,
              "#fdca26"
             ],
             [
              1,
              "#f0f921"
             ]
            ],
            "type": "histogram2d"
           }
          ],
          "histogram2dcontour": [
           {
            "colorbar": {
             "outlinewidth": 0,
             "ticks": ""
            },
            "colorscale": [
             [
              0,
              "#0d0887"
             ],
             [
              0.1111111111111111,
              "#46039f"
             ],
             [
              0.2222222222222222,
              "#7201a8"
             ],
             [
              0.3333333333333333,
              "#9c179e"
             ],
             [
              0.4444444444444444,
              "#bd3786"
             ],
             [
              0.5555555555555556,
              "#d8576b"
             ],
             [
              0.6666666666666666,
              "#ed7953"
             ],
             [
              0.7777777777777778,
              "#fb9f3a"
             ],
             [
              0.8888888888888888,
              "#fdca26"
             ],
             [
              1,
              "#f0f921"
             ]
            ],
            "type": "histogram2dcontour"
           }
          ],
          "mesh3d": [
           {
            "colorbar": {
             "outlinewidth": 0,
             "ticks": ""
            },
            "type": "mesh3d"
           }
          ],
          "parcoords": [
           {
            "line": {
             "colorbar": {
              "outlinewidth": 0,
              "ticks": ""
             }
            },
            "type": "parcoords"
           }
          ],
          "pie": [
           {
            "automargin": true,
            "type": "pie"
           }
          ],
          "scatter": [
           {
            "fillpattern": {
             "fillmode": "overlay",
             "size": 10,
             "solidity": 0.2
            },
            "type": "scatter"
           }
          ],
          "scatter3d": [
           {
            "line": {
             "colorbar": {
              "outlinewidth": 0,
              "ticks": ""
             }
            },
            "marker": {
             "colorbar": {
              "outlinewidth": 0,
              "ticks": ""
             }
            },
            "type": "scatter3d"
           }
          ],
          "scattercarpet": [
           {
            "marker": {
             "colorbar": {
              "outlinewidth": 0,
              "ticks": ""
             }
            },
            "type": "scattercarpet"
           }
          ],
          "scattergeo": [
           {
            "marker": {
             "colorbar": {
              "outlinewidth": 0,
              "ticks": ""
             }
            },
            "type": "scattergeo"
           }
          ],
          "scattergl": [
           {
            "marker": {
             "colorbar": {
              "outlinewidth": 0,
              "ticks": ""
             }
            },
            "type": "scattergl"
           }
          ],
          "scattermapbox": [
           {
            "marker": {
             "colorbar": {
              "outlinewidth": 0,
              "ticks": ""
             }
            },
            "type": "scattermapbox"
           }
          ],
          "scatterpolar": [
           {
            "marker": {
             "colorbar": {
              "outlinewidth": 0,
              "ticks": ""
             }
            },
            "type": "scatterpolar"
           }
          ],
          "scatterpolargl": [
           {
            "marker": {
             "colorbar": {
              "outlinewidth": 0,
              "ticks": ""
             }
            },
            "type": "scatterpolargl"
           }
          ],
          "scatterternary": [
           {
            "marker": {
             "colorbar": {
              "outlinewidth": 0,
              "ticks": ""
             }
            },
            "type": "scatterternary"
           }
          ],
          "surface": [
           {
            "colorbar": {
             "outlinewidth": 0,
             "ticks": ""
            },
            "colorscale": [
             [
              0,
              "#0d0887"
             ],
             [
              0.1111111111111111,
              "#46039f"
             ],
             [
              0.2222222222222222,
              "#7201a8"
             ],
             [
              0.3333333333333333,
              "#9c179e"
             ],
             [
              0.4444444444444444,
              "#bd3786"
             ],
             [
              0.5555555555555556,
              "#d8576b"
             ],
             [
              0.6666666666666666,
              "#ed7953"
             ],
             [
              0.7777777777777778,
              "#fb9f3a"
             ],
             [
              0.8888888888888888,
              "#fdca26"
             ],
             [
              1,
              "#f0f921"
             ]
            ],
            "type": "surface"
           }
          ],
          "table": [
           {
            "cells": {
             "fill": {
              "color": "#EBF0F8"
             },
             "line": {
              "color": "white"
             }
            },
            "header": {
             "fill": {
              "color": "#C8D4E3"
             },
             "line": {
              "color": "white"
             }
            },
            "type": "table"
           }
          ]
         },
         "layout": {
          "annotationdefaults": {
           "arrowcolor": "#2a3f5f",
           "arrowhead": 0,
           "arrowwidth": 1
          },
          "autotypenumbers": "strict",
          "coloraxis": {
           "colorbar": {
            "outlinewidth": 0,
            "ticks": ""
           }
          },
          "colorscale": {
           "diverging": [
            [
             0,
             "#8e0152"
            ],
            [
             0.1,
             "#c51b7d"
            ],
            [
             0.2,
             "#de77ae"
            ],
            [
             0.3,
             "#f1b6da"
            ],
            [
             0.4,
             "#fde0ef"
            ],
            [
             0.5,
             "#f7f7f7"
            ],
            [
             0.6,
             "#e6f5d0"
            ],
            [
             0.7,
             "#b8e186"
            ],
            [
             0.8,
             "#7fbc41"
            ],
            [
             0.9,
             "#4d9221"
            ],
            [
             1,
             "#276419"
            ]
           ],
           "sequential": [
            [
             0,
             "#0d0887"
            ],
            [
             0.1111111111111111,
             "#46039f"
            ],
            [
             0.2222222222222222,
             "#7201a8"
            ],
            [
             0.3333333333333333,
             "#9c179e"
            ],
            [
             0.4444444444444444,
             "#bd3786"
            ],
            [
             0.5555555555555556,
             "#d8576b"
            ],
            [
             0.6666666666666666,
             "#ed7953"
            ],
            [
             0.7777777777777778,
             "#fb9f3a"
            ],
            [
             0.8888888888888888,
             "#fdca26"
            ],
            [
             1,
             "#f0f921"
            ]
           ],
           "sequentialminus": [
            [
             0,
             "#0d0887"
            ],
            [
             0.1111111111111111,
             "#46039f"
            ],
            [
             0.2222222222222222,
             "#7201a8"
            ],
            [
             0.3333333333333333,
             "#9c179e"
            ],
            [
             0.4444444444444444,
             "#bd3786"
            ],
            [
             0.5555555555555556,
             "#d8576b"
            ],
            [
             0.6666666666666666,
             "#ed7953"
            ],
            [
             0.7777777777777778,
             "#fb9f3a"
            ],
            [
             0.8888888888888888,
             "#fdca26"
            ],
            [
             1,
             "#f0f921"
            ]
           ]
          },
          "colorway": [
           "#636efa",
           "#EF553B",
           "#00cc96",
           "#ab63fa",
           "#FFA15A",
           "#19d3f3",
           "#FF6692",
           "#B6E880",
           "#FF97FF",
           "#FECB52"
          ],
          "font": {
           "color": "#2a3f5f"
          },
          "geo": {
           "bgcolor": "white",
           "lakecolor": "white",
           "landcolor": "#E5ECF6",
           "showlakes": true,
           "showland": true,
           "subunitcolor": "white"
          },
          "hoverlabel": {
           "align": "left"
          },
          "hovermode": "closest",
          "mapbox": {
           "style": "light"
          },
          "paper_bgcolor": "white",
          "plot_bgcolor": "#E5ECF6",
          "polar": {
           "angularaxis": {
            "gridcolor": "white",
            "linecolor": "white",
            "ticks": ""
           },
           "bgcolor": "#E5ECF6",
           "radialaxis": {
            "gridcolor": "white",
            "linecolor": "white",
            "ticks": ""
           }
          },
          "scene": {
           "xaxis": {
            "backgroundcolor": "#E5ECF6",
            "gridcolor": "white",
            "gridwidth": 2,
            "linecolor": "white",
            "showbackground": true,
            "ticks": "",
            "zerolinecolor": "white"
           },
           "yaxis": {
            "backgroundcolor": "#E5ECF6",
            "gridcolor": "white",
            "gridwidth": 2,
            "linecolor": "white",
            "showbackground": true,
            "ticks": "",
            "zerolinecolor": "white"
           },
           "zaxis": {
            "backgroundcolor": "#E5ECF6",
            "gridcolor": "white",
            "gridwidth": 2,
            "linecolor": "white",
            "showbackground": true,
            "ticks": "",
            "zerolinecolor": "white"
           }
          },
          "shapedefaults": {
           "line": {
            "color": "#2a3f5f"
           }
          },
          "ternary": {
           "aaxis": {
            "gridcolor": "white",
            "linecolor": "white",
            "ticks": ""
           },
           "baxis": {
            "gridcolor": "white",
            "linecolor": "white",
            "ticks": ""
           },
           "bgcolor": "#E5ECF6",
           "caxis": {
            "gridcolor": "white",
            "linecolor": "white",
            "ticks": ""
           }
          },
          "title": {
           "x": 0.05
          },
          "xaxis": {
           "automargin": true,
           "gridcolor": "white",
           "linecolor": "white",
           "ticks": "",
           "title": {
            "standoff": 15
           },
           "zerolinecolor": "white",
           "zerolinewidth": 2
          },
          "yaxis": {
           "automargin": true,
           "gridcolor": "white",
           "linecolor": "white",
           "ticks": "",
           "title": {
            "standoff": 15
           },
           "zerolinecolor": "white",
           "zerolinewidth": 2
          }
         }
        },
        "title": {
         "text": "Gráfico de Dispersión"
        },
        "xaxis": {
         "anchor": "y",
         "domain": [
          0,
          1
         ],
         "title": {
          "text": "X"
         }
        },
        "yaxis": {
         "anchor": "x",
         "domain": [
          0,
          1
         ],
         "title": {
          "text": "Y"
         }
        }
       }
      }
     },
     "metadata": {},
     "output_type": "display_data"
    }
   ],
   "source": [
    "import plotly.express as px\n",
    "import pandas as pd\n",
    "\n",
    "# Crear datos de ejemplo\n",
    "data = {'X': [1, 2, 3, 4, 5],\n",
    "        'Y': [10, 11, 12, 13, 14]}\n",
    "\n",
    "# Crear un DataFrame de pandas con los datos\n",
    "df = pd.DataFrame(data)\n",
    "\n",
    "# Crear el gráfico de dispersión\n",
    "fig = px.scatter(df, x='X', y='Y', title='Gráfico de Dispersión')\n",
    "\n",
    "# Mostrar el gráfico\n",
    "fig.show()"
   ]
  }
 ],
 "metadata": {
  "kernelspec": {
   "display_name": "Python 3 (ipykernel)",
   "language": "python",
   "name": "python3"
  },
  "language_info": {
   "codemirror_mode": {
    "name": "ipython",
    "version": 3
   },
   "file_extension": ".py",
   "mimetype": "text/x-python",
   "name": "python",
   "nbconvert_exporter": "python",
   "pygments_lexer": "ipython3",
   "version": "3.11.5"
  }
 },
 "nbformat": 4,
 "nbformat_minor": 5
}
